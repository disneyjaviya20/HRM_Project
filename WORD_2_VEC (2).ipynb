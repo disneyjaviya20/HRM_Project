{
  "nbformat": 4,
  "nbformat_minor": 0,
  "metadata": {
    "colab": {
      "provenance": []
    },
    "kernelspec": {
      "name": "python3",
      "display_name": "Python 3"
    },
    "language_info": {
      "name": "python"
    }
  },
  "cells": [
    {
      "cell_type": "code",
      "execution_count": null,
      "metadata": {
        "id": "WZSA1qNn6N-1"
      },
      "outputs": [],
      "source": [
        "from google.colab import drive\n",
        "drive.mount('/content/drive')"
      ]
    },
    {
      "cell_type": "code",
      "source": [
        "import pandas as pd\n",
        "import numpy as np"
      ],
      "metadata": {
        "id": "0mVSSeOIDS9J"
      },
      "execution_count": null,
      "outputs": []
    },
    {
      "cell_type": "code",
      "source": [
        "df = pd.read_csv('/content/drive/MyDrive/challenge/group_2.csv') #[['PRODUCT_ID','TITLE','BULLET_POINTS','DESCRIPTION','PRODUCT_TYPE_ID','PRODUCT_LENGTH']]"
      ],
      "metadata": {
        "id": "QTFUED5E6pm8"
      },
      "execution_count": null,
      "outputs": []
    },
    {
      "cell_type": "code",
      "source": [
        "df.head()"
      ],
      "metadata": {
        "id": "lVAEl4NZBTNg"
      },
      "execution_count": null,
      "outputs": []
    },
    {
      "cell_type": "code",
      "source": [],
      "metadata": {
        "id": "1VftYW6zK4N5"
      },
      "execution_count": null,
      "outputs": []
    },
    {
      "cell_type": "markdown",
      "source": [
        "## Cleaning Data\n",
        "\n",
        "```\n",
        "# This is formatted as code\n",
        "```\n",
        "\n"
      ],
      "metadata": {
        "id": "_vp9Sfw8JPDq"
      }
    },
    {
      "cell_type": "code",
      "source": [
        "# df.isnull().sum()"
      ],
      "metadata": {
        "id": "WiyfAZMyK9vE"
      },
      "execution_count": null,
      "outputs": []
    },
    {
      "cell_type": "code",
      "source": [
        "# def replace_null_values(df, col):\n",
        "#     df[col].fillna(\"\", inplace=True)\n",
        "#     return df"
      ],
      "metadata": {
        "id": "nNfDNto9K9DC"
      },
      "execution_count": null,
      "outputs": []
    },
    {
      "cell_type": "code",
      "source": [
        "# replace_null_values(df,'DESCRIPTION')\n",
        "# replace_null_values(df,'BULLET_POINTS')\n",
        "\n",
        "# '--'"
      ],
      "metadata": {
        "id": "fWWOQa9QLEBq"
      },
      "execution_count": null,
      "outputs": []
    },
    {
      "cell_type": "code",
      "source": [
        "# df = df.dropna()"
      ],
      "metadata": {
        "id": "kmd5uzH5X1s0"
      },
      "execution_count": null,
      "outputs": []
    },
    {
      "cell_type": "code",
      "source": [
        "# ### Merge All Three Coloum \n",
        "\n",
        "# df['Text'] = df['TITLE'] +' '+df['BULLET_POINTS'] + ' ' + df['DESCRIPTION']"
      ],
      "metadata": {
        "id": "pwehkCGTY8EM"
      },
      "execution_count": null,
      "outputs": []
    },
    {
      "cell_type": "code",
      "source": [
        "\n"
      ],
      "metadata": {
        "id": "xFj--7GuZVCe"
      },
      "execution_count": null,
      "outputs": []
    },
    {
      "cell_type": "code",
      "source": [
        "import nltk\n",
        "\n",
        "from nltk.tokenize import word_tokenize\n",
        "nltk.download('punkt')\n",
        "\n",
        "def tokenize_column(df, col_name):\n",
        "   \n",
        "    df[col_name] = df[col_name].apply(lambda x: word_tokenize(x))\n",
        "    # return df"
      ],
      "metadata": {
        "id": "UeRsoieHJNQb"
      },
      "execution_count": null,
      "outputs": []
    },
    {
      "cell_type": "code",
      "source": [
        "tokenize_column(df,'Text') "
      ],
      "metadata": {
        "id": "LclVkdY8Y7PN"
      },
      "execution_count": null,
      "outputs": []
    },
    {
      "cell_type": "code",
      "source": [],
      "metadata": {
        "id": "EXCZxXt1JNZa"
      },
      "execution_count": null,
      "outputs": []
    },
    {
      "cell_type": "code",
      "source": [
        "df.head()"
      ],
      "metadata": {
        "id": "rHRQa9VTJ-YX"
      },
      "execution_count": null,
      "outputs": []
    },
    {
      "cell_type": "markdown",
      "source": [
        "## Word2VEC"
      ],
      "metadata": {
        "id": "rOBZfYoLMFRV"
      }
    },
    {
      "cell_type": "code",
      "source": [
        "# Import required libraries\n",
        "from gensim.models import Word2Vec\n",
        "import pandas as pd\n",
        "# import nltk\n",
        "# nltk.download('punkt')\n",
        "\n",
        "# # Load the dataset\n",
        "# data =  df.copy()  #   pd.read_csv('product_data.csv')\n",
        "\n",
        "# # Tokenize the text\n",
        "# # data['TITLE'] = data['TITLE'].apply(lambda x: nltk.word_tokenize(x))\n",
        "\n",
        "# # Build the Word2Vec model\n",
        "# model = Word2Vec()\n",
        "\n",
        "# # Train the Word2Vec model\n",
        "# model.build_vocab(data['TITLE'])\n",
        "# model.train(data['TITLE'], total_examples=model.corpus_count, epochs=model.epochs)\n",
        "\n",
        "# Save the Word2Vec model\n",
        "# model.save('word2vec_model.bin')\n",
        "\n",
        "# Use the Word2Vec model for word embedding\n",
        "# data['title_embeddings'] = data['TITLE'].apply(lambda x: [model.wv[word] for word in x])"
      ],
      "metadata": {
        "id": "FlndrJjLMdqa"
      },
      "execution_count": null,
      "outputs": []
    },
    {
      "cell_type": "code",
      "source": [],
      "metadata": {
        "id": "5G9VbvVT5V5M"
      },
      "execution_count": null,
      "outputs": []
    },
    {
      "cell_type": "code",
      "source": [
        "\n",
        "  \n",
        "def WORD2VEC(df,col_name):\n",
        "    # Build the Word2Vec model\n",
        "    def document_vector(doc):\n",
        "        doc = [word for word in doc if word in model.wv.index_to_key]\n",
        "        if len(doc) != 0:\n",
        "           return np.mean(model.wv[doc], axis=0)\n",
        "        else:\n",
        "           return np.zeros((model.vector_size,))\n",
        "\n",
        "    data = df.copy()\n",
        "    \n",
        "    model = Word2Vec()\n",
        "    model.build_vocab(data[col_name])\n",
        "    model.train(data[col_name], total_examples=model.corpus_count, epochs=model.epochs)\n",
        "\n",
        "\n",
        "\n",
        "\n",
        "    data['embeddings_Text'] = data[col_name].apply(lambda x: document_vector(x))\n",
        "    return data"
      ],
      "metadata": {
        "id": "jslE3_F2TU_R"
      },
      "execution_count": null,
      "outputs": []
    },
    {
      "cell_type": "code",
      "source": [
        "df = WORD2VEC(df,'Text')\n"
      ],
      "metadata": {
        "id": "faaHXlvhWTQD"
      },
      "execution_count": null,
      "outputs": []
    },
    {
      "cell_type": "code",
      "source": [
        "df.head()"
      ],
      "metadata": {
        "id": "XnQlhAJ6uZWr"
      },
      "execution_count": null,
      "outputs": []
    },
    {
      "cell_type": "code",
      "source": [
        "np.save('/content/drive/MyDrive/WORD_2_Vec/embedding__group_2.npy', df.embeddings_Text.values)"
      ],
      "metadata": {
        "id": "CuQf-NbfRFeu"
      },
      "execution_count": null,
      "outputs": []
    },
    {
      "cell_type": "code",
      "source": [],
      "metadata": {
        "id": "8liYoTxLRT3d"
      },
      "execution_count": null,
      "outputs": []
    },
    {
      "cell_type": "code",
      "source": [],
      "metadata": {
        "id": "LYNpn251IQab"
      },
      "execution_count": null,
      "outputs": []
    },
    {
      "cell_type": "code",
      "source": [],
      "metadata": {
        "id": "WjzXeQbTIoO3"
      },
      "execution_count": null,
      "outputs": []
    },
    {
      "cell_type": "code",
      "source": [],
      "metadata": {
        "id": "KvVE0bV7S2D0"
      },
      "execution_count": null,
      "outputs": []
    },
    {
      "cell_type": "code",
      "source": [],
      "metadata": {
        "id": "0Yk5K67LS26o"
      },
      "execution_count": null,
      "outputs": []
    }
  ]
}